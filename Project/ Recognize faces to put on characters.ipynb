{
 "cells": [
  {
   "cell_type": "markdown",
   "id": "bf81b23c",
   "metadata": {},
   "source": [
    "# Project: Recognize faces to put on characters"
   ]
  },
  {
   "cell_type": "markdown",
   "id": "ef855116",
   "metadata": {},
   "source": [
    "## Face Detection vs Face Recognition"
   ]
  },
  {
   "cell_type": "markdown",
   "id": "0bfd70bf",
   "metadata": {},
   "source": [
    "Package Install(패키지 설치)\n",
    "> pip install mediapipe"
   ]
  },
  {
   "cell_type": "markdown",
   "id": "6db25463",
   "metadata": {},
   "source": [
    "Sample Video : https://www.pexels.com/video/3256542/  \n",
    "Size : Full HD (1920 x 1080)  \n",
    "File name : face_video.mp4\n",
    "\n",
    "Character image : https://www.freepik.com/free-vector/cute-animal-masks-video-chat-application-effect-filters-set_6380101.htm  \n",
    "File name : right_eye.png (100 x 100), left_eye.png (100 x 100), nose.png (300 x 100)"
   ]
  },
  {
   "cell_type": "code",
   "execution_count": 11,
   "id": "a7cf379a",
   "metadata": {
    "scrolled": false
   },
   "outputs": [
    {
     "name": "stderr",
     "output_type": "stream",
     "text": [
      "ERROR: Could not find a version that satisfies the requirement mediapipe==0.9.3.2 (from versions: 0.8.4.1, 0.8.4.2, 0.8.4.8, 0.8.6, 0.8.6.1, 0.8.7, 0.8.7.1, 0.8.8, 0.8.9, 0.8.10, 0.8.11, 0.9.2.2)\n",
      "ERROR: No matching distribution found for mediapipe==0.9.3.2\n"
     ]
    }
   ],
   "source": [
    "!pip install -q sounddevice\n",
    "!pip install -q -i https://test.pypi.org/simple/ mediapipe==0.9.3.2        "
   ]
  },
  {
   "cell_type": "markdown",
   "id": "4fdd283e",
   "metadata": {},
   "source": [
    "## Face Detection"
   ]
  },
  {
   "cell_type": "code",
   "execution_count": 12,
   "id": "b73ac088",
   "metadata": {},
   "outputs": [],
   "source": [
    "import cv2\n",
    "import mediapipe as mp\n",
    "\n",
    "# Define variables to find faces and mark the ones you find\n",
    "mp_face_detection = mp.solutions.face_detection # Use the face_detection module for face detection\n",
    "mp_drawing = mp.solutions.drawing_utils # Using the drawing_utils module to draw facial features\n",
    "\n",
    "# Open a video file\n",
    "cap = cv2.VideoCapture('face_video.mp4')\n",
    "\n",
    "with mp_face_detection.FaceDetection(model_selection=0, min_detection_confidence=0.7) as face_detection:\n",
    "    while cap.isOpened():\n",
    "        success, image = cap.read()\n",
    "        if not success:\n",
    "            break\n",
    "\n",
    "        # To improve performance, optionally mark the image as not writeable to\n",
    "        # pass by reference.\n",
    "        image.flags.writeable = False\n",
    "        image = cv2.cvtColor(image, cv2.COLOR_BGR2RGB) #BGR을 RGB로 변경\n",
    "        results = face_detection.process(image)\n",
    "\n",
    "        # Draw the face detection annotations on the image.\n",
    "        image.flags.writeable = True\n",
    "        image = cv2.cvtColor(image, cv2.COLOR_RGB2BGR) #BGR을 RGB로 변경\n",
    "        \n",
    "        if results.detections:\n",
    "            # 6 features: right eye, left eye, tip of nose, center of mouth, right ear, left ear (earlobe point, migration)\n",
    "            for detection in results.detections:\n",
    "                mp_drawing.draw_detection(image, detection)          \n",
    "                \n",
    "        # Flip the image horizontally for a selfie-view display.\n",
    "        cv2.imshow('MediaPipe Face Detection', cv2.resize(image, None, fx=0.5, fy=0.5))\n",
    "        \n",
    "        if cv2.waitKey(1) == ord('q'):\n",
    "            break\n",
    "            \n",
    "cap.release()\n",
    "cv2.destroyAllWindows()"
   ]
  },
  {
   "cell_type": "markdown",
   "id": "604b276f",
   "metadata": {},
   "source": [
    "## Recognize faces to put on characters"
   ]
  },
  {
   "cell_type": "code",
   "execution_count": 8,
   "id": "d1d01861",
   "metadata": {},
   "outputs": [],
   "source": [
    "import cv2\n",
    "import mediapipe as mp\n",
    "\n",
    "def overlay(image, x, y, w, h, overlay_image): # Target image (3 channels), x, y coordinates, width, height, image to overwrite (4 channels)\n",
    "    alpha = overlay_image[:, :, 3] # BGRA\n",
    "    mask_image = alpha / 255 # 0 to 255 -> A value between 0 and 1 when divided by 255 (1: opaque, 0: fully transparent)\n",
    "    # (255, 255)  ->  (1, 1)\n",
    "    # (255, 0)        (1, 0)\n",
    "    \n",
    "    # 1 - mask_image ?\n",
    "    # (0, 0)\n",
    "    # (0, 1)\n",
    "    \n",
    "    for c in range(0, 3): # channel BGR\n",
    "        image[y-h:y+h, x-w:x+w, c] = (overlay_image[:, :, c] * mask_image) + (image[y-h:y+h, x-w:x+w, c] * (1 - mask_image))\n",
    "\n",
    "# Define variables to find faces and mark the ones you find\n",
    "mp_face_detection = mp.solutions.face_detection # Use the face_detection module for face detection\n",
    "mp_drawing = mp.solutions.drawing_utils # Using the drawing_utils module to draw facial features\n",
    "\n",
    "# Open a video file\n",
    "cap = cv2.VideoCapture('face_video.mp4')\n",
    "\n",
    "# Import images (right eye, left eye, nose)\n",
    "image_right_eye = cv2.imread('right_eye.png', cv2.IMREAD_UNCHANGED) # 100 x 100\n",
    "image_left_eye = cv2.imread('left_eye.png', cv2.IMREAD_UNCHANGED) # 100 x 100\n",
    "image_nose = cv2.imread('nose.png', cv2.IMREAD_UNCHANGED) # 300 x 100 (Horizontal, Vertical)\n",
    "\n",
    "with mp_face_detection.FaceDetection(model_selection=0, min_detection_confidence=0.7) as face_detection:\n",
    "    while cap.isOpened():\n",
    "        success, image = cap.read()\n",
    "        if not success:\n",
    "            break\n",
    "\n",
    "        # To improve performance, optionally mark the image as not writeable to\n",
    "        # pass by reference.\n",
    "        image.flags.writeable = False\n",
    "        image = cv2.cvtColor(image, cv2.COLOR_BGR2RGB) #Change BGR to RGB\n",
    "        results = face_detection.process(image)\n",
    "\n",
    "        # Draw the face detection annotations on the image.\n",
    "        image.flags.writeable = True\n",
    "        image = cv2.cvtColor(image, cv2.COLOR_RGB2BGR) #Change BGR to RGB\n",
    "        \n",
    "        if results.detections:\n",
    "            # 6 features: right eye, left eye, tip of nose, center of mouth, right ear, left ear (earlobe point, tragus: just in front of the earlobe)\n",
    "            for detection in results.detections:\n",
    "                # mp_drawing.draw_detection(image, detection)\n",
    "                # print(detection)\n",
    "                \n",
    "                # Get a specific location\n",
    "                keypoints = detection.location_data.relative_keypoints\n",
    "                right_eye = keypoints[0] # Right eye\n",
    "                left_eye = keypoints[1] # Left eye\n",
    "                nose_tip = keypoints[2] # Nose Tip\n",
    "                \n",
    "                h, w, _ = image.shape # height, width, channel : Get vertical and horizontal dimensions from an image\n",
    "                right_eye = (int(right_eye.x * w) - 20, int(right_eye.y * h) - 100) # Real-world coordinates (x, y) within an image\n",
    "                left_eye = (int(left_eye.x * w) + 20, int(left_eye.y * h) - 100)\n",
    "                nose_tip = (int(nose_tip.x * w), int(nose_tip.y * h))\n",
    "                \n",
    "                # Circle both eyes\n",
    "                # cv2.circle(image, right_eye, 50, (255, 0, 0), 10, cv2.LINE_AA) # 파란색\n",
    "                # cv2.circle(image, left_eye, 50, (0, 255, 0), 10, cv2.LINE_AA) # 초록색                \n",
    "                # Circle the nose\n",
    "                # cv2.circle(image, nose_tip, 75, (0, 255, 255), 10, cv2.LINE_AA) # 노란색\n",
    "                \n",
    "                # Draw an image for each feature\n",
    "                # image_right_eye.shape\n",
    "                # image[right_eye[1]-50:right_eye[1]+50, right_eye[0]-50:right_eye[0]+50] = image_right_eye\n",
    "                # image[left_eye[1]-50:left_eye[1]+50, left_eye[0]-50:left_eye[0]+50] = image_left_eye\n",
    "                # image[nose_tip[1]-50:nose_tip[1]+50, nose_tip[0]-150:nose_tip[0]+150] = image_nose\n",
    "                \n",
    "                # image, x, y, w, h, overlay_image\n",
    "                overlay(image, *right_eye, 50, 50, image_right_eye)\n",
    "                overlay(image, *left_eye, 50, 50, image_left_eye)\n",
    "                overlay(image, *nose_tip, 150, 50, image_nose)\n",
    "                \n",
    "        # Flip the image horizontally for a selfie-view display.\n",
    "        cv2.imshow('MediaPipe Face Detection', cv2.resize(image, None, fx=0.5, fy=0.5))\n",
    "        \n",
    "        if cv2.waitKey(1) == ord('q'):\n",
    "            break\n",
    "            \n",
    "cap.release()\n",
    "cv2.destroyAllWindows()"
   ]
  }
 ],
 "metadata": {
  "kernelspec": {
   "display_name": "Python 3 (ipykernel)",
   "language": "python",
   "name": "python3"
  },
  "language_info": {
   "codemirror_mode": {
    "name": "ipython",
    "version": 3
   },
   "file_extension": ".py",
   "mimetype": "text/x-python",
   "name": "python",
   "nbconvert_exporter": "python",
   "pygments_lexer": "ipython3",
   "version": "3.9.13"
  }
 },
 "nbformat": 4,
 "nbformat_minor": 5
}
